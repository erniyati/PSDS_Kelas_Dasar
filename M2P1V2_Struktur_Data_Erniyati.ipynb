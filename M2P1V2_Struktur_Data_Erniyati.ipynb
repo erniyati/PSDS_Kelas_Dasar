{
  "nbformat": 4,
  "nbformat_minor": 0,
  "metadata": {
    "colab": {
      "name": "M2P1V2_Struktur Data_Erniyati.ipynb",
      "provenance": [],
      "collapsed_sections": []
    },
    "kernelspec": {
      "name": "python3",
      "display_name": "Python 3"
    },
    "language_info": {
      "name": "python"
    }
  },
  "cells": [
    {
      "cell_type": "code",
      "metadata": {
        "colab": {
          "base_uri": "https://localhost:8080/"
        },
        "id": "JlIUagGBPRkW",
        "outputId": "4684ef62-ae96-4ebc-c3c8-5d429521730d"
      },
      "source": [
        "#contoh list \n",
        "L1 = [1, 4, 2, 13]\n",
        "\n",
        "print(type(L1))"
      ],
      "execution_count": 1,
      "outputs": [
        {
          "output_type": "stream",
          "name": "stdout",
          "text": [
            "<class 'list'>\n"
          ]
        }
      ]
    },
    {
      "cell_type": "code",
      "metadata": {
        "colab": {
          "base_uri": "https://localhost:8080/"
        },
        "id": "AlbbPeLAP-9z",
        "outputId": "fb7e2a41-0e14-4c79-fc8e-56e4692f6727"
      },
      "source": [
        "L2 = [\"a\", \"python\", 3]\n",
        "L2"
      ],
      "execution_count": 2,
      "outputs": [
        {
          "output_type": "execute_result",
          "data": {
            "text/plain": [
              "['a', 'python', 3]"
            ]
          },
          "metadata": {},
          "execution_count": 2
        }
      ]
    },
    {
      "cell_type": "code",
      "metadata": {
        "colab": {
          "base_uri": "https://localhost:8080/"
        },
        "id": "14hEljgWQMVG",
        "outputId": "82ce7c9d-f2d3-41e3-dfc0-5804f984ed7e"
      },
      "source": [
        "print(L1)\n",
        "print(L2)"
      ],
      "execution_count": 3,
      "outputs": [
        {
          "output_type": "stream",
          "name": "stdout",
          "text": [
            "[1, 4, 2, 13]\n",
            "['a', 'python', 3]\n"
          ]
        }
      ]
    },
    {
      "cell_type": "code",
      "metadata": {
        "colab": {
          "base_uri": "https://localhost:8080/"
        },
        "id": "gEoBd2EgQVrp",
        "outputId": "dbf35e6d-837a-4826-906c-2a8eaf7f9fad"
      },
      "source": [
        "#latihan 1\n",
        "\n",
        "A1 = [2, 6, 10, 15]\n",
        "print(type(A1))"
      ],
      "execution_count": 7,
      "outputs": [
        {
          "output_type": "stream",
          "name": "stdout",
          "text": [
            "<class 'list'>\n"
          ]
        }
      ]
    },
    {
      "cell_type": "code",
      "metadata": {
        "colab": {
          "base_uri": "https://localhost:8080/"
        },
        "id": "7PAztSCERTNT",
        "outputId": "3f4dc60e-cf1a-4ac2-fda1-a28ed6a871ad"
      },
      "source": [
        "A2 = [\"b\", \"python\", 2]\n",
        "A2"
      ],
      "execution_count": 8,
      "outputs": [
        {
          "output_type": "execute_result",
          "data": {
            "text/plain": [
              "['b', 'python', 2]"
            ]
          },
          "metadata": {},
          "execution_count": 8
        }
      ]
    },
    {
      "cell_type": "code",
      "metadata": {
        "colab": {
          "base_uri": "https://localhost:8080/"
        },
        "id": "OXAaESKQRfN0",
        "outputId": "eb5516e3-f5a1-46c4-c056-f19929be341d"
      },
      "source": [
        "print(A1)\n",
        "print(A2)"
      ],
      "execution_count": 9,
      "outputs": [
        {
          "output_type": "stream",
          "name": "stdout",
          "text": [
            "[2, 6, 10, 15]\n",
            "['b', 'python', 2]\n"
          ]
        }
      ]
    },
    {
      "cell_type": "code",
      "metadata": {
        "colab": {
          "base_uri": "https://localhost:8080/"
        },
        "id": "bvyF1V3KRj7M",
        "outputId": "273e0332-2a60-4931-afa8-74ee837ffec2"
      },
      "source": [
        "#sifat-sifat list \n",
        "\n",
        "#terurut/ordered\n",
        "print(\"memanggil list L1 dengan indesk urutan:\", L1[0:3])\n",
        "\n",
        "#bisa diganti/mutable\n",
        "L1[1] = 2\n",
        "print('list L1 setelah diganti elemennya:', L1)\n",
        "\n",
        "L1 = [1, \"dua\", True, 2+3j]\n",
        "\n",
        "#dapat diindeks/sclicing\n",
        "print(\"slicing list L1:\", L1[3])\n",
        "\n",
        "#dapat diijinkan duplikasi\n",
        "L1 = [1, \"dua\", True, 2+3j, 2+3j]\n",
        "print(\"duplikasi pada list L1:\", L1)"
      ],
      "execution_count": 10,
      "outputs": [
        {
          "output_type": "stream",
          "name": "stdout",
          "text": [
            "memanggil list L1 dengan indesk urutan: [1, 4, 2]\n",
            "list L1 setelah diganti elemennya: [1, 2, 2, 13]\n",
            "slicing list L1: (2+3j)\n",
            "duplikasi pada list L1: [1, 'dua', True, (2+3j), (2+3j)]\n"
          ]
        }
      ]
    },
    {
      "cell_type": "code",
      "metadata": {
        "colab": {
          "base_uri": "https://localhost:8080/"
        },
        "id": "dKU7tD3FTFVW",
        "outputId": "a2f5bd51-2c2f-45ed-8ad2-b42993a2713f"
      },
      "source": [
        "#latihan 2\n",
        "\n",
        "print(\"memanggil list A1 dengan indeks urutan:\", A1[0:4])\n",
        "A1[2] = 2\n",
        "print(\"list A1 setelah diganti elemennya:\", A1)\n",
        "A1 = [1, \"dua\", True, 2+3j]\n",
        "print(\"slicing list A1:\", A1[3])\n",
        "A1 = [1, \"due\", True, 2+3j, 2+3j]\n",
        "print(\"duplikasi pada list A1:\", A1)"
      ],
      "execution_count": 11,
      "outputs": [
        {
          "output_type": "stream",
          "name": "stdout",
          "text": [
            "memanggil list A1 dengan indeks urutan: [2, 6, 10, 15]\n",
            "list A1 setelah diganti elemennya: [2, 6, 2, 15]\n",
            "slicing list A1: (2+3j)\n",
            "duplikasi pada list A1: [1, 'due', True, (2+3j), (2+3j)]\n"
          ]
        }
      ]
    }
  ]
}