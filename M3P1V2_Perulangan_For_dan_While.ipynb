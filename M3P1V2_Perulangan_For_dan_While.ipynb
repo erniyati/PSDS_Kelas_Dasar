{
  "nbformat": 4,
  "nbformat_minor": 0,
  "metadata": {
    "colab": {
      "name": "M3P1V2_Perulangan_For_dan_While.ipynb",
      "provenance": [],
      "collapsed_sections": []
    },
    "kernelspec": {
      "name": "python3",
      "display_name": "Python 3"
    },
    "language_info": {
      "name": "python"
    }
  },
  "cells": [
    {
      "cell_type": "markdown",
      "metadata": {
        "id": "-xf797w8bnt2"
      },
      "source": [
        "**Looping/Perulangan**\n",
        "\n",
        "python menyediakan dua statement untuk melakukan proses perulangan yaitu for dan while. diantara kedua statement ini, secara umum for lebih banyak digunakan daripada while.\n",
        "\n"
      ]
    },
    {
      "cell_type": "markdown",
      "metadata": {
        "id": "rPpLkHPYb_m5"
      },
      "source": [
        "**For Loop**\n",
        "\n",
        "perulangan for digunakan untuk melakukan iterasi di dalam sequence seperti list,tuple, string, dan array atau objek yang dapat diiterasi lainnya.\n",
        "\n",
        "For Loop Syntax\n",
        "\n",
        "\n",
        "\n"
      ]
    },
    {
      "cell_type": "code",
      "metadata": {
        "id": "y74GWkGecdwE"
      },
      "source": [
        "for val in sequence:\n",
        "  loop body"
      ],
      "execution_count": null,
      "outputs": []
    },
    {
      "cell_type": "markdown",
      "metadata": {
        "id": "tAGo-n2Bcln9"
      },
      "source": [
        "Example: Python for Loop"
      ]
    },
    {
      "cell_type": "code",
      "metadata": {
        "colab": {
          "base_uri": "https://localhost:8080/"
        },
        "id": "gXN6oN2ccsH_",
        "outputId": "9b3c507a-6877-4c6b-f560-008a4647804c"
      },
      "source": [
        "#program untuk mengitung jumlah semua angka dalam sebuah list\n",
        "L1 = [2, 4, 5, 7, 9]\n",
        "jumlah = 0\n",
        "\n",
        "#iterasi di dalam list\n",
        "for i in L1:\n",
        "  jumlah = jumlah + i\n",
        "\n",
        "print(jumlah)"
      ],
      "execution_count": 2,
      "outputs": [
        {
          "output_type": "stream",
          "name": "stdout",
          "text": [
            "27\n"
          ]
        }
      ]
    },
    {
      "cell_type": "markdown",
      "metadata": {
        "id": "BcteiFwUdQpf"
      },
      "source": [
        "The range() function"
      ]
    },
    {
      "cell_type": "code",
      "metadata": {
        "colab": {
          "base_uri": "https://localhost:8080/"
        },
        "id": "mjbf4RxzdUsr",
        "outputId": "3457a178-6449-491b-ea8a-04c425f2306d"
      },
      "source": [
        "#program untuk melakukan iterasi di dalam list melalui indeks\n",
        "minuman = [\"teh\", \"boba\", \"kopi\", \"susu\"]\n",
        "p = len(minuman)\n",
        "\n",
        "#iterasi di dalam list melalui indeks\n",
        "for i in range(p):\n",
        "  print(minuman[i])"
      ],
      "execution_count": 3,
      "outputs": [
        {
          "output_type": "stream",
          "name": "stdout",
          "text": [
            "teh\n",
            "boba\n",
            "kopi\n",
            "susu\n"
          ]
        }
      ]
    },
    {
      "cell_type": "markdown",
      "metadata": {
        "id": "mRIfU87Nd-j2"
      },
      "source": [
        "for loop with else"
      ]
    },
    {
      "cell_type": "code",
      "metadata": {
        "colab": {
          "base_uri": "https://localhost:8080/"
        },
        "id": "oCkYp0KteBdo",
        "outputId": "74fcefd2-fbf6-4104-f451-3e6c1041ee99"
      },
      "source": [
        "#contoh for loop menggunakan else\n",
        "for i in range(p):\n",
        "  print(minuman[i])\n",
        "else:\n",
        "  print(\"Elemen sudah habis\")"
      ],
      "execution_count": 4,
      "outputs": [
        {
          "output_type": "stream",
          "name": "stdout",
          "text": [
            "teh\n",
            "boba\n",
            "kopi\n",
            "susu\n",
            "Elemen sudah habis\n"
          ]
        }
      ]
    },
    {
      "cell_type": "markdown",
      "metadata": {
        "id": "oAKDKnpGeYrj"
      },
      "source": [
        "**Latihan 1**\n",
        "\n",
        "Diberikan list_tagihan. kamu diminta untuk menghitung jumlah seluruh tagihan. gunakan looping for untuk menyelesaikan tugas ini. simpan hasilnya pada variabel total_tagihan\n",
        "\n",
        "list_tagihan = [50000, 75000, -150000, 125000, 300000, -50000, 200000]\n",
        "\n",
        "\n",
        "\n"
      ]
    },
    {
      "cell_type": "code",
      "metadata": {
        "colab": {
          "base_uri": "https://localhost:8080/"
        },
        "id": "D5hNIbgKebSa",
        "outputId": "d47615fe-6967-4079-b42e-b189fd0eaed9"
      },
      "source": [
        "#list tagihan\n",
        "list_tagihan = [50000, 75000, -150000, 125000, 300000, -50000, 200000]\n",
        "total_tagihan = 0\n",
        "\n",
        "#iterasi di dalam list\n",
        "for i in list_tagihan: \n",
        "  total_tagihan = total_tagihan + i\n",
        "print(total_tagihan)"
      ],
      "execution_count": 5,
      "outputs": [
        {
          "output_type": "stream",
          "name": "stdout",
          "text": [
            "550000\n"
          ]
        }
      ]
    },
    {
      "cell_type": "markdown",
      "metadata": {
        "id": "K2ni_V6QhPNU"
      },
      "source": [
        "**While Loop**\n",
        "\n",
        "while loop pada python digunakan untuk melakukan iterasi pada blok kode selama nilai dari test expression adalah true.\n",
        "\n"
      ]
    },
    {
      "cell_type": "markdown",
      "metadata": {
        "id": "nvxmN8ENhr-U"
      },
      "source": [
        "Syntax of While Loop in Python"
      ]
    },
    {
      "cell_type": "code",
      "metadata": {
        "id": "8a8exSmqhyWG"
      },
      "source": [
        "while test_expression:\n",
        "  Body of while"
      ],
      "execution_count": null,
      "outputs": []
    },
    {
      "cell_type": "markdown",
      "metadata": {
        "id": "WWkMqPRQh5T_"
      },
      "source": [
        "Example: Python While Loop"
      ]
    },
    {
      "cell_type": "code",
      "metadata": {
        "colab": {
          "base_uri": "https://localhost:8080/"
        },
        "id": "Cp6niOGfiA3_",
        "outputId": "a66ba1a1-d580-4671-8957-f3d00ad0d0f8"
      },
      "source": [
        "#program untuk menjumlahkan semua\n",
        "#bilangan asli hingga suku ke-n\n",
        "#jum = 1+2+3+ ...+n\n",
        "\n",
        "n = 10\n",
        "jumlah = 0\n",
        "i = 1\n",
        "\n",
        "while i <= n:\n",
        "  jumlah = jumlah + i\n",
        "  i = i + 1\n",
        "\n",
        "print(jumlah)"
      ],
      "execution_count": 7,
      "outputs": [
        {
          "output_type": "stream",
          "name": "stdout",
          "text": [
            "55\n"
          ]
        }
      ]
    },
    {
      "cell_type": "markdown",
      "metadata": {
        "id": "lktpOlOGieYq"
      },
      "source": [
        "**While loop with else**\n",
        "\n",
        "sama dengan for loop kita juga dapat mengkombinasikan while loop dengan blok else. bagian else akan dieksekusi jika nilai pada test expression pada while loopm bernilai False. perhatikan contoh berikut :\n",
        "\n"
      ]
    },
    {
      "cell_type": "code",
      "metadata": {
        "colab": {
          "base_uri": "https://localhost:8080/"
        },
        "id": "ITXAKbAGi7mQ",
        "outputId": "ff3a469a-5111-432d-82f4-ee93a6391141"
      },
      "source": [
        "jum = 0\n",
        "i = 1\n",
        "while i <= n:\n",
        "  jum = jum + i\n",
        "  i = i + 1\n",
        "else:\n",
        "  print(jum) #dieksekusi diluar looping"
      ],
      "execution_count": 8,
      "outputs": [
        {
          "output_type": "stream",
          "name": "stdout",
          "text": [
            "55\n"
          ]
        }
      ]
    },
    {
      "cell_type": "markdown",
      "metadata": {
        "id": "kvxVzcIolvWe"
      },
      "source": [
        "**Latihan 2**\n",
        "\n",
        "diberikan list tagihan hitunglah total_tagihan menggunakan while loop.\n",
        "\n",
        "tagihan = [50000, 75000, 125000, 300000, 200000]\n",
        "\n",
        "\n",
        "\n"
      ]
    },
    {
      "cell_type": "code",
      "metadata": {
        "colab": {
          "base_uri": "https://localhost:8080/"
        },
        "id": "xJGCwLmkl-Jo",
        "outputId": "1c25d490-655e-4a1c-c025-5b498fb40aaf"
      },
      "source": [
        "#list tagihan\n",
        "tagihan = [50000, 75000, 125000, 300000, 200000]\n",
        "\n",
        "i = 0\n",
        "jumlah_tagihan = len(tagihan)\n",
        "total_tagihan = 0\n",
        "while i < jumlah_tagihan:\n",
        "  total_tagihan += tagihan[i]\n",
        "  i += 1\n",
        "\n",
        "print(total_tagihan)"
      ],
      "execution_count": 9,
      "outputs": [
        {
          "output_type": "stream",
          "name": "stdout",
          "text": [
            "750000\n"
          ]
        }
      ]
    }
  ]
}