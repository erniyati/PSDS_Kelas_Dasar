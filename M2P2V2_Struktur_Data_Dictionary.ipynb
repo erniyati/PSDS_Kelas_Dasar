{
  "nbformat": 4,
  "nbformat_minor": 0,
  "metadata": {
    "colab": {
      "name": "M2P2V2_Struktur_Data_Dictionary.ipynb",
      "provenance": [],
      "collapsed_sections": []
    },
    "kernelspec": {
      "name": "python3",
      "display_name": "Python 3"
    },
    "language_info": {
      "name": "python"
    }
  },
  "cells": [
    {
      "cell_type": "markdown",
      "metadata": {
        "id": "nwATqSFfkklL"
      },
      "source": [
        "Dictionary\n",
        "\n",
        "Dictionary pada python adalah kumpulan pasangan kunci-nilai(pair of key-value) yang bersifat tidak berurutan. dictionary dapat digunakan untuk menyimpan data kecil hingga besar. untuk mengakses datanya, kita harus mengetahui kuncinya(key). pada python dictionary didefinisikan dengan kurawal dan tambahan defnisi berikut:\n",
        "\n",
        "\n",
        "*   setiap elemen pair key-value dipisahkan dengan koma(,).\n",
        "* key dan value dipisahkan dengan titik dua(:).\n",
        "\n",
        "*   key dan value dapat berupa tipe variabel/obyek apapun\n",
        "\n",
        "\n",
        "\n",
        "\n",
        "\n",
        "\n",
        "\n",
        "\n"
      ]
    },
    {
      "cell_type": "code",
      "metadata": {
        "id": "isQJvWerl9WP"
      },
      "source": [
        "L1 = [1, 'dua', True, (2+3j), (2+3j)]"
      ],
      "execution_count": 2,
      "outputs": []
    },
    {
      "cell_type": "code",
      "metadata": {
        "colab": {
          "base_uri": "https://localhost:8080/"
        },
        "id": "XT2m-TJtmb7s",
        "outputId": "e168cdd6-9b63-4de6-d8c2-d060e6f6e2eb"
      },
      "source": [
        "L1"
      ],
      "execution_count": 3,
      "outputs": [
        {
          "output_type": "execute_result",
          "data": {
            "text/plain": [
              "[1, 'dua', True, (2+3j), (2+3j)]"
            ]
          },
          "metadata": {},
          "execution_count": 3
        }
      ]
    },
    {
      "cell_type": "code",
      "metadata": {
        "colab": {
          "base_uri": "https://localhost:8080/"
        },
        "id": "CsM0kuvNmegy",
        "outputId": "dc44b9b4-55a9-4282-9bcf-3644d1c92394"
      },
      "source": [
        "#Contoh Dictionary\n",
        "D1 = {1:'value','key':2}\n",
        "\n",
        "print(D1)"
      ],
      "execution_count": 4,
      "outputs": [
        {
          "output_type": "stream",
          "name": "stdout",
          "text": [
            "{1: 'value', 'key': 2}\n"
          ]
        }
      ]
    },
    {
      "cell_type": "markdown",
      "metadata": {
        "id": "9qOMLuommuF8"
      },
      "source": [
        "**LATIHAN 1**"
      ]
    },
    {
      "cell_type": "code",
      "metadata": {
        "colab": {
          "base_uri": "https://localhost:8080/"
        },
        "id": "wf9e6_BNmzwu",
        "outputId": "b7d3b87d-59e2-4ec6-acd6-b0f0d685c9d3"
      },
      "source": [
        "# Buatlah Struktur Data Dictionary Kalian Sendiri\n",
        "data = {'benar': 1, 'salah':0}\n",
        "print(data)"
      ],
      "execution_count": 10,
      "outputs": [
        {
          "output_type": "stream",
          "name": "stdout",
          "text": [
            "{'benar': 1, 'salah': 0}\n"
          ]
        }
      ]
    },
    {
      "cell_type": "code",
      "metadata": {
        "colab": {
          "base_uri": "https://localhost:8080/"
        },
        "id": "oifzPFmFm_SE",
        "outputId": "d5cb54fa-2052-46e0-bf15-a0edeed973bc"
      },
      "source": [
        "L1[2]"
      ],
      "execution_count": 11,
      "outputs": [
        {
          "output_type": "execute_result",
          "data": {
            "text/plain": [
              "True"
            ]
          },
          "metadata": {},
          "execution_count": 11
        }
      ]
    },
    {
      "cell_type": "code",
      "metadata": {
        "colab": {
          "base_uri": "https://localhost:8080/"
        },
        "id": "3arzmgFQnLVc",
        "outputId": "4314bdbd-f73f-4c5e-a046-00fd10e410ba"
      },
      "source": [
        "D1['key']"
      ],
      "execution_count": 12,
      "outputs": [
        {
          "output_type": "execute_result",
          "data": {
            "text/plain": [
              "2"
            ]
          },
          "metadata": {},
          "execution_count": 12
        }
      ]
    },
    {
      "cell_type": "code",
      "metadata": {
        "colab": {
          "base_uri": "https://localhost:8080/"
        },
        "id": "OVFA82s9nQ8M",
        "outputId": "23bb7b02-e0c5-40b4-9331-38aaf54477b4"
      },
      "source": [
        "#memanggil elemen berdasarkan key\n",
        "print(\"D1['key']=\", D1['key']);"
      ],
      "execution_count": 13,
      "outputs": [
        {
          "output_type": "stream",
          "name": "stdout",
          "text": [
            "D1['key']= 2\n"
          ]
        }
      ]
    },
    {
      "cell_type": "markdown",
      "metadata": {
        "id": "CVeGNUpnoY-_"
      },
      "source": [
        "Dictionary bukan termasuk dalam implementasi urut(sequences), sehingga tidak bisa dipanggil dengan urutan indeks. Misalkan dalam contoh berikut dicoba dengan indeks 2, tetepi menghasilkan error(KeyError) karena tidak ada kunci(key) 2:"
      ]
    },
    {
      "cell_type": "code",
      "metadata": {
        "colab": {
          "base_uri": "https://localhost:8080/",
          "height": 180
        },
        "id": "j5hd7m3io59r",
        "outputId": "fab714ce-2159-463f-b81f-bae3a89c9612"
      },
      "source": [
        "#nyobain error\n",
        "print(\"D1[2] =\", D1[2]);"
      ],
      "execution_count": 14,
      "outputs": [
        {
          "output_type": "error",
          "ename": "KeyError",
          "evalue": "ignored",
          "traceback": [
            "\u001b[0;31m---------------------------------------------------------------------------\u001b[0m",
            "\u001b[0;31mKeyError\u001b[0m                                  Traceback (most recent call last)",
            "\u001b[0;32m<ipython-input-14-0f7a877b9507>\u001b[0m in \u001b[0;36m<module>\u001b[0;34m()\u001b[0m\n\u001b[1;32m      1\u001b[0m \u001b[0;31m#nyobain error\u001b[0m\u001b[0;34m\u001b[0m\u001b[0;34m\u001b[0m\u001b[0;34m\u001b[0m\u001b[0m\n\u001b[0;32m----> 2\u001b[0;31m \u001b[0mprint\u001b[0m\u001b[0;34m(\u001b[0m\u001b[0;34m\"D1[2] =\"\u001b[0m\u001b[0;34m,\u001b[0m \u001b[0mD1\u001b[0m\u001b[0;34m[\u001b[0m\u001b[0;36m2\u001b[0m\u001b[0;34m]\u001b[0m\u001b[0;34m)\u001b[0m\u001b[0;34m;\u001b[0m\u001b[0;34m\u001b[0m\u001b[0;34m\u001b[0m\u001b[0m\n\u001b[0m",
            "\u001b[0;31mKeyError\u001b[0m: 2"
          ]
        }
      ]
    },
    {
      "cell_type": "markdown",
      "metadata": {
        "id": "WWWe76n1pGkn"
      },
      "source": [
        "**LATIHAN 2**"
      ]
    },
    {
      "cell_type": "code",
      "metadata": {
        "colab": {
          "base_uri": "https://localhost:8080/"
        },
        "id": "E82OoRXYpJvk",
        "outputId": "e5f20354-d9b2-4fa8-9d4d-39e5a260825b"
      },
      "source": [
        "#panggil salah satu key dan value pada dictionary yang kalian buat\n",
        "\n",
        "print(\"data['benar'] =\", data['benar']);"
      ],
      "execution_count": 16,
      "outputs": [
        {
          "output_type": "stream",
          "name": "stdout",
          "text": [
            "data['benar'] = 1\n"
          ]
        }
      ]
    }
  ]
}