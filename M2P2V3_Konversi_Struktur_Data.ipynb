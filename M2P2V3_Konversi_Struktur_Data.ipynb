{
  "nbformat": 4,
  "nbformat_minor": 0,
  "metadata": {
    "colab": {
      "name": "M2P2V3_Konversi Struktur Data.ipynb",
      "provenance": [],
      "collapsed_sections": []
    },
    "kernelspec": {
      "name": "python3",
      "display_name": "Python 3"
    },
    "language_info": {
      "name": "python"
    }
  },
  "cells": [
    {
      "cell_type": "markdown",
      "metadata": {
        "id": "NY_pw9l6qgGC"
      },
      "source": [
        "Konversi Sruktur Data\n",
        "\n",
        "fungsi untuk mengubah/konversi struktur data:\n",
        "\n",
        "\n",
        "1.   list() : untuk mengubah menjadi list\n",
        "2.   tuple() : untuk mengubah menjadi tuple\n",
        "2.   set() : untuk mengubah menjadi set\n",
        "3.   dict() : untuk mengubah menjadi dictionary\n",
        "\n",
        "\n",
        "\n",
        "\n",
        "\n",
        "\n",
        "\n"
      ]
    },
    {
      "cell_type": "markdown",
      "metadata": {
        "id": "IlvfU5rxrjRI"
      },
      "source": [
        "Mengkonversi tipe data list :"
      ]
    },
    {
      "cell_type": "code",
      "metadata": {
        "id": "oRw8b0Zkr5Vr"
      },
      "source": [
        "# membuat 2 list\n",
        "L1 = [1, 2, 3, 4]\n",
        "L2 = [5, 6, 7, 8]"
      ],
      "execution_count": 1,
      "outputs": []
    },
    {
      "cell_type": "code",
      "metadata": {
        "colab": {
          "base_uri": "https://localhost:8080/"
        },
        "id": "nSb6lzKJu8aN",
        "outputId": "aecc0f98-b897-46ad-dcea-c9bb2ae35b2d"
      },
      "source": [
        "#mengkonversi struktur data list\n",
        "k_tuple = tuple(L1)\n",
        "k_set = set(L2)\n",
        "k_dict = dict(zip(L1, L2))\n",
        "#melihat data yang telah dikonversi\n",
        "print(k_tuple)\n",
        "print(k_set)\n",
        "print(k_dict)"
      ],
      "execution_count": 2,
      "outputs": [
        {
          "output_type": "stream",
          "name": "stdout",
          "text": [
            "(1, 2, 3, 4)\n",
            "{8, 5, 6, 7}\n",
            "{1: 5, 2: 6, 3: 7, 4: 8}\n"
          ]
        }
      ]
    },
    {
      "cell_type": "markdown",
      "metadata": {
        "id": "INOnaXS_vlIw"
      },
      "source": [
        "Mengkonversi tipe data tuple:"
      ]
    },
    {
      "cell_type": "code",
      "metadata": {
        "id": "Uoz7SUAYvrdL"
      },
      "source": [
        "#membuat dua tuple \n",
        "T1 = (1, 2, 3, 4)\n",
        "T2 = (5, 6, 7, 8)"
      ],
      "execution_count": 3,
      "outputs": []
    },
    {
      "cell_type": "code",
      "metadata": {
        "colab": {
          "base_uri": "https://localhost:8080/"
        },
        "id": "-d1xXmXLv2Nq",
        "outputId": "4e1f54af-67d8-40e3-a520-574983bbdeac"
      },
      "source": [
        "#mengkonversi struktur data tuple\n",
        "k_list = list(T1)\n",
        "k_set = set(T2)\n",
        "k_dict = dict(zip(T1, T2))\n",
        "#melihat data yang telah dikonversi\n",
        "print(k_list)\n",
        "print(k_set)\n",
        "print(k_dict)"
      ],
      "execution_count": 4,
      "outputs": [
        {
          "output_type": "stream",
          "name": "stdout",
          "text": [
            "[1, 2, 3, 4]\n",
            "{8, 5, 6, 7}\n",
            "{1: 5, 2: 6, 3: 7, 4: 8}\n"
          ]
        }
      ]
    },
    {
      "cell_type": "markdown",
      "metadata": {
        "id": "VhFUarOPxOHV"
      },
      "source": [
        "Mnegkonversi tipe data set:"
      ]
    },
    {
      "cell_type": "code",
      "metadata": {
        "id": "pNlWSMbsxSW3"
      },
      "source": [
        "#membuat dua set\n",
        "S1 = {1, 2, 3, 4}\n",
        "S2 = {5, 6, 7, 8}"
      ],
      "execution_count": 5,
      "outputs": []
    },
    {
      "cell_type": "code",
      "metadata": {
        "colab": {
          "base_uri": "https://localhost:8080/"
        },
        "id": "vApbxCPKxdgZ",
        "outputId": "59f4bae1-5002-4da8-d7e8-bccb10c89c76"
      },
      "source": [
        "#mengkonversi struktur data set\n",
        "k_list = list(S1)\n",
        "K_tuple = tuple(S2)\n",
        "k_dict = dict(zip(S1, S2))\n",
        "#melihat data yang telah dikonversi\n",
        "print(k_list)\n",
        "print(k_tuple)\n",
        "print(k_dict)"
      ],
      "execution_count": 6,
      "outputs": [
        {
          "output_type": "stream",
          "name": "stdout",
          "text": [
            "[1, 2, 3, 4]\n",
            "(1, 2, 3, 4)\n",
            "{1: 8, 2: 5, 3: 6, 4: 7}\n"
          ]
        }
      ]
    },
    {
      "cell_type": "markdown",
      "metadata": {
        "id": "vP-fDZCJx-Tn"
      },
      "source": [
        "Mengkonversi tipe data list:"
      ]
    },
    {
      "cell_type": "code",
      "metadata": {
        "id": "ziSTcFl7yEJg"
      },
      "source": [
        "#membuat dictionary\n",
        "D = {\n",
        "    \"nama\": \"Andi\",\n",
        "     \"alamat\": \"Yogyakarta\",\n",
        "     \"umur\": 20\n",
        "}"
      ],
      "execution_count": 7,
      "outputs": []
    },
    {
      "cell_type": "code",
      "metadata": {
        "colab": {
          "base_uri": "https://localhost:8080/"
        },
        "id": "bpZOgXYbyZvP",
        "outputId": "4daa6c19-2657-43d6-e2aa-a0a6ece81d41"
      },
      "source": [
        "#mengkonversi struktur data dictionary dri key dan valuenya\n",
        "k_list = list(D.keys())\n",
        "k_tuple = tuple(D.values())\n",
        "k_set = set(D.keys())\n",
        "#melihat data yang telah dikonversi\n",
        "print(k_list)\n",
        "print(k_tuple)\n",
        "print(k_set)"
      ],
      "execution_count": 9,
      "outputs": [
        {
          "output_type": "stream",
          "name": "stdout",
          "text": [
            "['nama', 'alamat', 'umur']\n",
            "('Andi', 'Yogyakarta', 20)\n",
            "{'nama', 'umur', 'alamat'}\n"
          ]
        }
      ]
    },
    {
      "cell_type": "markdown",
      "metadata": {
        "id": "a8TcDZgrzNXI"
      },
      "source": [
        "Latihan"
      ]
    },
    {
      "cell_type": "code",
      "metadata": {
        "id": "qmjEqh7izO9h"
      },
      "source": [
        "#lakukan konversi struktur data yang kalian buat pada notebook-notebook\n",
        "#sebelumnya menjadi list, tuple, set, dan dictionary\n",
        "\n",
        "#list\n",
        "L3 = [2, 4, 6]\n",
        "L4 = [\"blue\", \"red\", 46]\n",
        "\n",
        "#tuple\n",
        "t1 = (10, 2+3j, \"red\", True, 16)\n",
        "t2 = (3, 4, 5, \"satu\")\n",
        "\n",
        "#set\n",
        "s1 = {\"blue\", \"satu\", True}\n",
        "s2 = {10, 11, 2+3j}\n",
        "\n",
        "#dictionary\n",
        "data = {'benar': 1, 'salah': 0}"
      ],
      "execution_count": 28,
      "outputs": []
    },
    {
      "cell_type": "code",
      "metadata": {
        "colab": {
          "base_uri": "https://localhost:8080/"
        },
        "id": "zr81TCv51-H_",
        "outputId": "b69df30a-b41f-4528-cc53-118ed2e3190a"
      },
      "source": [
        "\n",
        "#mengkonversi struktur data list\n",
        "k_tuple = tuple(L3)\n",
        "k_set = set(L4)\n",
        "#melihat data yang telah dikonversi\n",
        "print(k_tuple)\n",
        "print(k_set)"
      ],
      "execution_count": 33,
      "outputs": [
        {
          "output_type": "stream",
          "name": "stdout",
          "text": [
            "(2, 4, 6)\n",
            "{'blue', 'red', 46}\n"
          ]
        }
      ]
    },
    {
      "cell_type": "code",
      "metadata": {
        "colab": {
          "base_uri": "https://localhost:8080/"
        },
        "id": "lxMe35_L-tss",
        "outputId": "5914680a-6483-4809-bdb7-66d66621df1f"
      },
      "source": [
        "#mengkonversi struktur data tuple \n",
        "k_list = list(t1)\n",
        "k_set = set(t2)\n",
        "#melihat data yang telah dikonversi\n",
        "print(k_list)\n",
        "print(k_set)"
      ],
      "execution_count": 35,
      "outputs": [
        {
          "output_type": "stream",
          "name": "stdout",
          "text": [
            "[10, (2+3j), 'red', True, 16]\n",
            "{3, 4, 5, 'satu'}\n"
          ]
        }
      ]
    },
    {
      "cell_type": "code",
      "metadata": {
        "colab": {
          "base_uri": "https://localhost:8080/"
        },
        "id": "DNsmIBJBAjBa",
        "outputId": "ed5acd21-39ad-48b5-d3a2-2e858421f547"
      },
      "source": [
        "#mengkonversi struktur data set\n",
        "k_list = list(s1)\n",
        "K_tuple = tuple(s2)\n",
        "#melihat data yang telah dikonversi\n",
        "print(k_list)\n",
        "print(k_tuple)"
      ],
      "execution_count": 37,
      "outputs": [
        {
          "output_type": "stream",
          "name": "stdout",
          "text": [
            "['blue', True, 'satu']\n",
            "(2, 4, 6)\n"
          ]
        }
      ]
    },
    {
      "cell_type": "code",
      "metadata": {
        "colab": {
          "base_uri": "https://localhost:8080/"
        },
        "id": "HnPMxrTXBDIb",
        "outputId": "d8d20472-3042-4c6c-f289-daccd3727aa0"
      },
      "source": [
        "#mengkonversi struktur data dictionary dri key dan valuenya\n",
        "k_list = list(data.keys())\n",
        "k_tuple = tuple(data.values())\n",
        "k_set = set(data.keys())\n",
        "#melihat data yang telah dikonversi\n",
        "print(k_list)\n",
        "print(k_tuple)\n",
        "print(k_set)"
      ],
      "execution_count": 38,
      "outputs": [
        {
          "output_type": "stream",
          "name": "stdout",
          "text": [
            "['benar', 'salah']\n",
            "(1, 0)\n",
            "{'salah', 'benar'}\n"
          ]
        }
      ]
    }
  ]
}