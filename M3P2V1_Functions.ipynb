{
  "nbformat": 4,
  "nbformat_minor": 0,
  "metadata": {
    "colab": {
      "name": "M3P2V1_Functions.ipynb",
      "provenance": [],
      "collapsed_sections": []
    },
    "kernelspec": {
      "name": "python3",
      "display_name": "Python 3"
    },
    "language_info": {
      "name": "python"
    }
  },
  "cells": [
    {
      "cell_type": "markdown",
      "metadata": {
        "id": "ZUiDOvwZ9txF"
      },
      "source": [
        "**Function**\n",
        "\n",
        "Function adalah sebuah blok stetemen yang hanya akan dijalankan saat ia dipanggil.\n",
        "\n",
        "\n",
        "fungsi len() untuk mengukur jumlah elemen dalam sebuah list dan fungsi print() untuk menampilkan pesan pada layar konsol merupakan contoh dari bentuk fungsi yang telah disediakan oleh bahasa pemrograman Python atau dengan kata lain built-in functions. \n",
        "\n",
        "selain fungsi yeng telah disediakan oleh Python, Python mengizinkan untuk mendeklarasi fungsi dalam kode yang dituiskan yang dikenal dengan user defined function.\n",
        "\n",
        "\n",
        "\n"
      ]
    },
    {
      "cell_type": "code",
      "metadata": {
        "id": "vVbBPjP__AIj"
      },
      "source": [
        "def nama_fungsi(argument):\n",
        "  statement_1\n",
        "  ...\n",
        "  statement_n\n",
        "  return returned_value"
      ],
      "execution_count": null,
      "outputs": []
    },
    {
      "cell_type": "markdown",
      "metadata": {
        "id": "wEip1PlC_Weh"
      },
      "source": [
        "\n",
        "\n",
        "*   **nama_fungsi** adalah nama untuk fungsi yang Anda definisikan, memiliki aturan seperti penamaan variabel\n",
        "*   **argument** adalah variabel masukan ke fungsi, bisa tanpa variabel, satu veriabel atau lebih\n",
        "*   **statement_1 ... statement_n** adalah algoritma yang telah anda transfer dalam bahasa Python yang merupakan inti dari fungsi yang Anda definisikan. seluruh statement adalah menjorok (indent) ke dalam seperti yang pernah anda pelajari pada conditioning dan looping\n",
        "*   **return_value** adalah variabel output dari fungsi Anda, bisa tanpa variabel, satu variabel atau lebih\n",
        "\n",
        "\n",
        "\n",
        "\n",
        "\n",
        "\n",
        "\n"
      ]
    },
    {
      "cell_type": "markdown",
      "metadata": {
        "id": "uUERgsGoAxXC"
      },
      "source": [
        "**Argumen dan Parameter**\n",
        "\n",
        "*   **Parameter** adalah variabel yang digunakan dalam deklarasi fungsi\n",
        "*   **Argumen** adalah nilai yang diberikan saat penampilan fungsi\n",
        "\n"
      ]
    },
    {
      "cell_type": "code",
      "metadata": {
        "colab": {
          "base_uri": "https://localhost:8080/"
        },
        "id": "MQIe96XbBLAW",
        "outputId": "ac34abe9-fafd-404f-b572-899c336478b9"
      },
      "source": [
        "def print_nama(nama): #'nama' adalah parameter\n",
        "    print(nama)\n",
        "print_nama('Budi') # ' Budi adalah argumen"
      ],
      "execution_count": 1,
      "outputs": [
        {
          "output_type": "stream",
          "name": "stdout",
          "text": [
            "Budi\n"
          ]
        }
      ]
    },
    {
      "cell_type": "markdown",
      "metadata": {
        "id": "Xcp_tinQBkoB"
      },
      "source": [
        "**Argumen posisi dan kata kunci**\n",
        "\n",
        "Kita bisa menyatakan argumen sebagai argumen posisi atau kata kunci. Beberapa manfaat argumen kata kunci dapat berupa:\n",
        "*   Kita dapat menyebut argumen dengan nama mereka untuk memperjelas apa yang mereka wakili\n",
        "*   Kita dapat mengatur ulang argumen dengan cara yang membuatnya paling mudah dibaca\n",
        "\n",
        "\n",
        "\n"
      ]
    },
    {
      "cell_type": "code",
      "metadata": {
        "colab": {
          "base_uri": "https://localhost:8080/"
        },
        "id": "ByMnXu9kCNAS",
        "outputId": "87709f83-45b5-4571-908a-c36fdb3c087b"
      },
      "source": [
        "def angka(a, b, c):\n",
        "  print(a, b, c)\n",
        "\n",
        "#argumen posisi\n",
        "#argumen berdasarkan posisinya\n",
        "angka(1, 2, 3)\n",
        "\n",
        "#argumen berdasarkan kata kuncinya\n",
        "angka(a=1, b=2, c=3)\n",
        "angka(c=3, b=2, a=1)\n",
        "#catatan: jika sudah diberi kunci maka urutan tidak menjadi penting\n",
        "\n",
        "#campuran antara argumen posisi dan argumen kata kunci\n",
        "angka(1, b=2, c=3)\n",
        "\n",
        "#ini tidak dijinkan:\n",
        "#foo(1, b=2, c=3) #argumen posisional setelah argumen kunci\n",
        "#foo(1, b=2, c=3) #terdapat dua nilai untuk argumenkunci 'a'"
      ],
      "execution_count": 2,
      "outputs": [
        {
          "output_type": "stream",
          "name": "stdout",
          "text": [
            "1 2 3\n",
            "1 2 3\n",
            "1 2 3\n",
            "1 2 3\n"
          ]
        }
      ]
    },
    {
      "cell_type": "markdown",
      "metadata": {
        "id": "jXixuulnDXY5"
      },
      "source": [
        "**Argumen Default**\n",
        "\n",
        "fungsi dapat memiliki argumen default dengan nilai yang telah ditentukan sebelumnya. Argumen ini dapat ditinggalkan dan nilai default kemudia diteruskan ke fungsi, atau argumen dapat dirubah dengan nilai yang berbeda. perhatikan bahwa argumen default harus ditentukan sebagai **parameter terakhir** dalam suatu fungsi.\n",
        "\n"
      ]
    },
    {
      "cell_type": "code",
      "metadata": {
        "colab": {
          "base_uri": "https://localhost:8080/"
        },
        "id": "CGWEQQquEKYN",
        "outputId": "5b36c5bc-184b-493f-b2ce-935a13b881d0"
      },
      "source": [
        "# Argumen default\n",
        "def angka2(a, b, c, d=4):\n",
        "  print(a, b, c, d)\n",
        "\n",
        "angka2(1, 2, 3, 4)\n",
        "angka2(1, b=2, c=3, d=100)\n",
        "\n",
        "#argumen default harus diletakan terakhir"
      ],
      "execution_count": 3,
      "outputs": [
        {
          "output_type": "stream",
          "name": "stdout",
          "text": [
            "1 2 3 4\n",
            "1 2 3 100\n"
          ]
        }
      ]
    },
    {
      "cell_type": "markdown",
      "metadata": {
        "id": "d4Pu49ZoEsm7"
      },
      "source": [
        "**Praktik Membuat Fungsi**"
      ]
    },
    {
      "cell_type": "code",
      "metadata": {
        "colab": {
          "base_uri": "https://localhost:8080/"
        },
        "id": "nucBK_gLEzhI",
        "outputId": "48de1f5b-b649-4a4d-fdc0-c10ca8f5d4e2"
      },
      "source": [
        "x = 1\n",
        "y = 2\n",
        "x*y"
      ],
      "execution_count": 4,
      "outputs": [
        {
          "output_type": "execute_result",
          "data": {
            "text/plain": [
              "2"
            ]
          },
          "metadata": {},
          "execution_count": 4
        }
      ]
    },
    {
      "cell_type": "code",
      "metadata": {
        "colab": {
          "base_uri": "https://localhost:8080/"
        },
        "id": "tck1QQbEE6ot",
        "outputId": "377ee5df-add7-4934-b94e-292a018b52f5"
      },
      "source": [
        "def penjumlahan(x,y): #input\n",
        "  a=x+y               #proses\n",
        "  return a            #output\n",
        "\n",
        "penjumlahan(1, 2)    #menggunakan fungsi"
      ],
      "execution_count": 6,
      "outputs": [
        {
          "output_type": "execute_result",
          "data": {
            "text/plain": [
              "3"
            ]
          },
          "metadata": {},
          "execution_count": 6
        }
      ]
    },
    {
      "cell_type": "markdown",
      "metadata": {
        "id": "t4ZfB2XCFdWz"
      },
      "source": [
        "penjumalahan yang menggunakan untuk tiga bilangan"
      ]
    },
    {
      "cell_type": "code",
      "metadata": {
        "colab": {
          "base_uri": "https://localhost:8080/"
        },
        "id": "iAxFmAsCFiSk",
        "outputId": "b39c44ae-35f9-4c27-9e80-fc2b423c44eb"
      },
      "source": [
        "def penjumlahan(x,y,z=None):\n",
        "  if (z==None):\n",
        "    return x+y\n",
        "  else:\n",
        "    return x+y+z\n",
        "\n",
        "print(penjumlahan(1,2))\n",
        "print(penjumlahan(1,2,3))"
      ],
      "execution_count": 7,
      "outputs": [
        {
          "output_type": "stream",
          "name": "stdout",
          "text": [
            "3\n",
            "6\n"
          ]
        }
      ]
    },
    {
      "cell_type": "markdown",
      "metadata": {
        "id": "utSlKTV8GAN5"
      },
      "source": [
        "menyimpan hasil fungsi dalam variabel"
      ]
    },
    {
      "cell_type": "code",
      "metadata": {
        "colab": {
          "base_uri": "https://localhost:8080/"
        },
        "id": "dYBqhtD1GEK4",
        "outputId": "8c0b08bf-8d98-4502-8117-a9b3963768e5"
      },
      "source": [
        "def penjumlahan(x,y):\n",
        "  return x+y\n",
        "a = penjumlahan\n",
        "a(1,2)"
      ],
      "execution_count": 8,
      "outputs": [
        {
          "output_type": "execute_result",
          "data": {
            "text/plain": [
              "3"
            ]
          },
          "metadata": {},
          "execution_count": 8
        }
      ]
    },
    {
      "cell_type": "markdown",
      "metadata": {
        "id": "I8V8Hd_SGWqZ"
      },
      "source": [
        "**Latihan 1**\n",
        "\n",
        "Buatlah Function pythagoras dengan input argumennya panjang tinggi, dan alas segitiga untuk menghasilkan output nilai panjang sisi miring \n",
        "\n"
      ]
    },
    {
      "cell_type": "code",
      "metadata": {
        "colab": {
          "base_uri": "https://localhost:8080/"
        },
        "id": "snw0-J25ZNwq",
        "outputId": "2d10673b-0f53-4de1-9020-731a37b24a18"
      },
      "source": [
        "def sisimiring(tinggi,alas):\n",
        "  return (tinggi**2+alas**2)**(1/2)\n",
        "\n",
        "a=sisimiring\n",
        "a(4,8)\n"
      ],
      "execution_count": 32,
      "outputs": [
        {
          "output_type": "execute_result",
          "data": {
            "text/plain": [
              "8.94427190999916"
            ]
          },
          "metadata": {},
          "execution_count": 32
        }
      ]
    },
    {
      "cell_type": "markdown",
      "metadata": {
        "id": "zcs4n1NvQs-g"
      },
      "source": [
        "**Latihan 2**\n",
        "\n",
        "Buatlah function luas permukaan balok dengan input argumennya panjang, lebar dan tinggi dari balok untuk mengasilkan output nilai luas permukaan balok tersebut\n",
        "\n"
      ]
    },
    {
      "cell_type": "code",
      "metadata": {
        "colab": {
          "base_uri": "https://localhost:8080/"
        },
        "id": "aAMiK2-TZudd",
        "outputId": "24dabf77-9638-40ac-ff22-066d7e1e24b8"
      },
      "source": [
        "def luas_permukaan_balok(p,l,t):\n",
        "  LP = 2*(p*l+p*t+l*t)\n",
        "  return LP\n",
        "\n",
        "a = luas_permukaan_balok\n",
        "a(12,10,5)"
      ],
      "execution_count": 34,
      "outputs": [
        {
          "output_type": "execute_result",
          "data": {
            "text/plain": [
              "460"
            ]
          },
          "metadata": {},
          "execution_count": 34
        }
      ]
    }
  ]
}