{
  "nbformat": 4,
  "nbformat_minor": 0,
  "metadata": {
    "colab": {
      "name": "M3P1V1_If_Elif_Else.ipynb",
      "provenance": [],
      "collapsed_sections": []
    },
    "kernelspec": {
      "name": "python3",
      "display_name": "Python 3"
    },
    "language_info": {
      "name": "python"
    }
  },
  "cells": [
    {
      "cell_type": "markdown",
      "metadata": {
        "id": "RvyccE35De9F"
      },
      "source": [
        "**Percabangan/Struktur Pemilihan**\n",
        "\n",
        "pada bagian ini, kamu akan membuat keputusan pada bahasa pemograman python menggunakan struktur percabangan atau juga sering disebut IF ELSE Statement. pengambilan keputusan dibutuhkan ketika kamu akan mengeksekusi suatu kode jika sebuah kondisi tertentu dipenuhi.\n",
        "\n",
        "Statment if .. elif ... else digunakan pada bahasa python untuk pengambilan keputusan.\n",
        "\n",
        "\n",
        "\n"
      ]
    },
    {
      "cell_type": "markdown",
      "metadata": {
        "id": "iCawEsdZEh4K"
      },
      "source": [
        "**IF Statements**\n",
        "\n",
        "python IF Statement Syntax\n",
        "\n"
      ]
    },
    {
      "cell_type": "code",
      "metadata": {
        "id": "1u2d1zflFFXN"
      },
      "source": [
        "if test expression:\n",
        "  statement(s)"
      ],
      "execution_count": null,
      "outputs": []
    },
    {
      "cell_type": "code",
      "metadata": {
        "colab": {
          "base_uri": "https://localhost:8080/"
        },
        "id": "4PpAxSf3FMFb",
        "outputId": "49d6b76c-a1e4-44fe-ea22-6e25a50764d2"
      },
      "source": [
        "#jika angka adalah bilangan positif maka print \"adalah bilangan positif\"\n",
        "\n",
        "angka = 3\n",
        "if angka > 0:\n",
        "  print(angka, \"adalah bilangan positif.\")\n",
        "print(\"pertanyaan ini selalu ditampilkan.\")\n",
        "\n",
        "angka = -1\n",
        "if angka > 0:\n",
        "  print(angka, \"adalah bilangan positif.\")\n",
        "print(\"pernyataan ini juga selalu ditampilkan.\")"
      ],
      "execution_count": 2,
      "outputs": [
        {
          "output_type": "stream",
          "name": "stdout",
          "text": [
            "3 adalah bilangan positif.\n",
            "pertanyaan ini selalu ditampilkan.\n",
            "pernyataan ini juga selalu ditampilkan.\n"
          ]
        }
      ]
    },
    {
      "cell_type": "markdown",
      "metadata": {
        "id": "51iXPiwBGJAG"
      },
      "source": [
        "**IF ELSE Statements**\n",
        "\n",
        "python IF ELSE Statement syantax\n",
        "\n"
      ]
    },
    {
      "cell_type": "code",
      "metadata": {
        "id": "jSDfdYYqGXIq"
      },
      "source": [
        "if test expression:\n",
        "  Body of if\n",
        "else :\n",
        "  Body of else"
      ],
      "execution_count": null,
      "outputs": []
    },
    {
      "cell_type": "code",
      "metadata": {
        "colab": {
          "base_uri": "https://localhost:8080/"
        },
        "id": "FfT3dGtTGsrF",
        "outputId": "6eb1bd9d-e9a7-4ba1-8818-81d2b58bafd5"
      },
      "source": [
        "#program disusun untuk mengecek apakah angka tersebut kurang dari 0 atau tidak \n",
        "#dan menampilkan tulisan yang sesuai\n",
        "\n",
        "angka = 3\n",
        "if angka >= 0:\n",
        "  print(\"Bilangan lebih dari atau samadengan 0\")\n",
        "else:\n",
        "  print(\"Bilangan kurang dari 0\")"
      ],
      "execution_count": 3,
      "outputs": [
        {
          "output_type": "stream",
          "name": "stdout",
          "text": [
            "Bilangan lebih dari atau samadengan 0\n"
          ]
        }
      ]
    },
    {
      "cell_type": "code",
      "metadata": {
        "colab": {
          "base_uri": "https://localhost:8080/"
        },
        "id": "xNTm-WHUHQFb",
        "outputId": "bb4d3ecb-22d7-49f4-c604-19d170277189"
      },
      "source": [
        "#program disusun untuk mengecek apakah dua buah angka sama atau tidak \n",
        "#dan menempilkan tulisan yang sesuai\n",
        "\n",
        "a = 5\n",
        "b = 5\n",
        "\n",
        "if a==b:\n",
        "  print(\"a dan b bernilai sama\")\n",
        "else:\n",
        "  print(\"a dan b bernilai berbeda\")\n",
        "  print(\"Belajar If Else\")\n"
      ],
      "execution_count": 4,
      "outputs": [
        {
          "output_type": "stream",
          "name": "stdout",
          "text": [
            "a dan b bernilai sama\n"
          ]
        }
      ]
    },
    {
      "cell_type": "code",
      "metadata": {
        "colab": {
          "base_uri": "https://localhost:8080/"
        },
        "id": "Nnd43XmWH2DE",
        "outputId": "2cdadc54-6d6f-4468-9cf0-ba915304b9b5"
      },
      "source": [
        "#program disusun untuk mengecek apakah perbandingan dua buah angka \n",
        "#dan menampilkan tulisan yang sesuai\n",
        "\n",
        "#membaca dua angka \n",
        "bil1 = int(input(\"masukan bilangan pertama: \"))\n",
        "bil2 = int(input(\"masukan bilangan kedua: \"))\n",
        "\n",
        "#memilih bilangan yang lebih besar\n",
        "if bil1 > bil2:\n",
        "  bil_lebih_besar = bil1\n",
        "else:\n",
        "  bil_lebih_besar = bil2\n",
        "\n",
        "#menampilkan hasil\n",
        "print(\"Bilangan yang lebih besar adalah: \", bil_lebih_besar)"
      ],
      "execution_count": 5,
      "outputs": [
        {
          "output_type": "stream",
          "name": "stdout",
          "text": [
            "masukan bilangan pertama: 3\n",
            "masukan bilangan kedua: 5\n",
            "Bilangan yang lebih besar adalah:  5\n"
          ]
        }
      ]
    },
    {
      "cell_type": "markdown",
      "metadata": {
        "id": "yG85munrI6yC"
      },
      "source": [
        "**IF ELIF ELSE Statements**\n",
        "\n",
        "python IF ELIF ELSE Statement Syntax\n",
        "\n"
      ]
    },
    {
      "cell_type": "code",
      "metadata": {
        "id": "9hChxhxgJJ4h"
      },
      "source": [
        "if test expression:\n",
        "  Body of if\n",
        "elif test expression:\n",
        "  Body of elif\n",
        "else :\n",
        "  Body of else"
      ],
      "execution_count": null,
      "outputs": []
    },
    {
      "cell_type": "code",
      "metadata": {
        "colab": {
          "base_uri": "https://localhost:8080/"
        },
        "id": "kN1sDYLVJZUI",
        "outputId": "e579dbea-5bfb-456e-8750-1bb0e46a75b3"
      },
      "source": [
        "#program disusun untuk mengecek apakah angka merupakan bilangan positif, negatif, atau nol\n",
        "#dan menampilkan tulisan yang sesuai\n",
        "\n",
        "angka = 3.4\n",
        "\n",
        "if angka > 0:\n",
        "  print(\"Bilangan Positif\")\n",
        "elif num == 0:\n",
        "  print(\"Nol\")\n",
        "else:\n",
        "  print(\"Bilangan Negatif\")"
      ],
      "execution_count": 6,
      "outputs": [
        {
          "output_type": "stream",
          "name": "stdout",
          "text": [
            "Bilangan Positif\n"
          ]
        }
      ]
    },
    {
      "cell_type": "code",
      "metadata": {
        "colab": {
          "base_uri": "https://localhost:8080/"
        },
        "id": "Z2cRR8W3KBOq",
        "outputId": "5fce3ce3-d915-4f88-90ac-4ae333bce451"
      },
      "source": [
        "#Statement if\n",
        "x = 4\n",
        "if x % 2 == 0: #jika x dibagi 2 sisanya samadengan 0\n",
        "  print(\"x habis dibagi dua\")\n",
        "\n",
        "#Statement if ... elif ... else\n",
        "x = 7\n",
        "if x % 2 == 0: #jika x dibagi 2 sisanya samadengan 0\n",
        "  print(\"x habis dibagi dua\")\n",
        "elif x % 3 == 0: #jika x dibagi 3 sisanya samadengan 0\n",
        "  print(\"x habis dibagi tiga\")\n",
        "elif x % 5 == 0: #jika x dibagi 5 sisanya samadengan 0\n",
        "  print(\"x habis dibagi lima\")\n",
        "else:\n",
        "  print(\"x tidak habis dibagi dua, tiga, ataupun lima\")"
      ],
      "execution_count": 7,
      "outputs": [
        {
          "output_type": "stream",
          "name": "stdout",
          "text": [
            "x habis dibagi dua\n",
            "x tidak habis dibagi dua, tiga, ataupun lima\n"
          ]
        }
      ]
    },
    {
      "cell_type": "markdown",
      "metadata": {
        "id": "s0XXYkd1LWpl"
      },
      "source": [
        "**Python Nested IF Statements**\n",
        "\n",
        "Example: Python Nested IF Statement\n",
        "\n"
      ]
    },
    {
      "cell_type": "code",
      "metadata": {
        "colab": {
          "base_uri": "https://localhost:8080/"
        },
        "id": "yoraGLy7LobA",
        "outputId": "7c28bffc-c4d2-4d94-dba6-b4071cc74e73"
      },
      "source": [
        "#program disusun untuk mengecek apakah angka merupakan bilangan positif, negatif, atau nol\n",
        "#dan menampilkan tulisan yang sesuai\n",
        "\n",
        "angka = float(input(\"masukan angka: \"))\n",
        "if angka >= 0:\n",
        "  if angka == 0:\n",
        "    print(\"Nol\")\n",
        "  else:\n",
        "    print(\"Bilangan Positif\")\n",
        "else:\n",
        "  print(\"Bilangan Negatif\")"
      ],
      "execution_count": 8,
      "outputs": [
        {
          "output_type": "stream",
          "name": "stdout",
          "text": [
            "masukan angka: 4\n",
            "Bilangan Positif\n"
          ]
        }
      ]
    },
    {
      "cell_type": "markdown",
      "metadata": {
        "id": "rgE4_VscMXMK"
      },
      "source": [
        "**Latihan**\n",
        "\n",
        "Buatlah sebuah fungsi \"Mahal_diskon\" dengan ketentuan:\n",
        "\n",
        "\n",
        "*   input berupa data harga produk dengan tipe data numerik tunggal\n",
        "*   kategori input adalah \"murah\" dan \"mahal\", kemudian diskon ada 3 kategori \"10%\", \"20%\", dan \"40%\"\n",
        "\n",
        "\n",
        "*   output pertama sebuah teks/string yang menyatakan \"mahal\" atau \"murah\" dan keterangan \"kamu dapat diskon...\"\n",
        "*   output kedua adalah harga yang perlu dibayarkan\n",
        "\n",
        "\n",
        "\n",
        "\n",
        "\n"
      ]
    },
    {
      "cell_type": "code",
      "metadata": {
        "colab": {
          "base_uri": "https://localhost:8080/"
        },
        "id": "8lrMAuzqhV66",
        "outputId": "cfd06469-fb65-4b06-b63a-ef8d576edda5"
      },
      "source": [
        "harga = int(input(\"Total belanja Rp. \"))\n",
        "\n",
        "if harga >= 400000:\n",
        "  print(\"Mahal, kamu dapat diskon 40%\")\n",
        "  diskon = harga * (40/100)\n",
        "  bayar = harga - diskon\n",
        "elif harga >= 200000:\n",
        "  print(\"Mahal, kamu dapat diskon 20%\")\n",
        "  diskon = harga * (20/100)\n",
        "  bayar = harga - diskon\n",
        "else:\n",
        "  print(\"Murah, kamu dapat diskon 10%\")\n",
        "  diskon = harga * (10/100)\n",
        "  bayar = harga - diskon\n",
        "\n",
        "print(\"Anda cukup bayar, Rp. \", bayar)"
      ],
      "execution_count": 11,
      "outputs": [
        {
          "output_type": "stream",
          "name": "stdout",
          "text": [
            "Total belanja Rp. 600000\n",
            "Mahal, kamu dapat diskon 40%\n",
            "Anda cukup bayar, Rp.  360000.0\n"
          ]
        }
      ]
    }
  ]
}